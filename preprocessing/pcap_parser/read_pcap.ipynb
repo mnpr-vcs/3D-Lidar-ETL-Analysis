{
 "cells": [
  {
   "cell_type": "markdown",
   "metadata": {},
   "source": [
    "# Pcap_processing"
   ]
  },
  {
   "cell_type": "code",
   "execution_count": 9,
   "metadata": {},
   "outputs": [],
   "source": [
    "import os\n",
    "import glob\n",
    "import yaml\n",
    "import tqdm\n",
    "import dpkt\n",
    "import socket\n",
    "import datetime\n",
    "import numpy as np\n",
    "\n",
    "from dataclasses import dataclass\n",
    "from typing import List, Tuple, Iterator\n",
    "from dpkt.utils import mac_to_str, inet_to_str\n",
    "\n",
    "from point_cloud import PointCloud"
   ]
  },
  {
   "cell_type": "code",
   "execution_count": 10,
   "metadata": {},
   "outputs": [
    {
     "name": "stdout",
     "output_type": "stream",
     "text": [
      "../../data/ferry_pcap/lidar_00030_20211025155801_filtered.pcap\n"
     ]
    }
   ],
   "source": [
    "# list of pcap files in directory\n",
    "PCAP_PATH='../../data/ferry_pcap/'\n",
    "pcap_files = glob.glob(\"{base}/*.pcap\".format(base=PCAP_PATH))\n",
    "file_path = pcap_files[1]\n",
    "print(file_path)\n",
    "\n",
    "# Vlp-16 \n",
    "LASERS = 16\n",
    "BLOCKS = 12\n",
    "\n",
    "# Elevation/Polar array\n",
    "OMEGA = np.array([-15, 1, -13, 3, -11, 5, -9, 7, -7, 9, -5, 11, -3, 13, -1, 15])\n",
    "\n",
    "OMEGA_RAD = np.deg2rad(OMEGA)\n",
    "OMEGA_COS = np.cos(OMEGA_RAD)\n",
    "OMEGA_SIN = np.sin(OMEGA_RAD)\n",
    "\n",
    "AZIMUTH_RES = 0.01\n",
    "DISTANCE_RES = 0.002\n",
    "\n",
    "HEADER_SIZE = 42\n",
    "PACKET_SIZE = 1248"
   ]
  },
  {
   "cell_type": "code",
   "execution_count": 11,
   "metadata": {},
   "outputs": [],
   "source": [
    "pkt_stream = List[Tuple[float, bytes]] # (ts, data_buffer)\n",
    "\n",
    "@dataclass\n",
    "class FiringData:\n",
    "    \n",
    "    azimuth: np.ndarray\n",
    "    distance: np.ndarray\n",
    "    intensity: np.ndarray"
   ]
  },
  {
   "cell_type": "code",
   "execution_count": 12,
   "metadata": {},
   "outputs": [],
   "source": [
    "def parse_data_packets(buffer: bytes):\n",
    "    \n",
    "    azimuth = np.ndarray((BLOCKS,), np.uint16, buffer, 2, (100,)) * AZIMUTH_RES\n",
    "    azimuth = np.repeat(azimuth, LASERS).reshape(BLOCKS, LASERS)\n",
    "    distance = np.ndarray((BLOCKS, LASERS), np.uint16, buffer, 4, (100, 3)) * DISTANCE_RES\n",
    "    intensity = np.ndarray((BLOCKS, LASERS), np.uint8, buffer, 6, (100,3))\n",
    "    \n",
    "    return azimuth, distance, intensity\n",
    "    "
   ]
  },
  {
   "cell_type": "code",
   "execution_count": 13,
   "metadata": {},
   "outputs": [],
   "source": [
    "def yield_firings(buffer: bytes) -> Iterator[FiringData]:\n",
    "    \n",
    "    azimuth, distance, intensity = parse_data_packets(buffer)\n",
    "    \n",
    "    for i in range(BLOCKS):\n",
    "        firing = FiringData(azimuth[i], distance[i], intensity[i])\n",
    "        \n",
    "        yield firing"
   ]
  },
  {
   "cell_type": "code",
   "execution_count": 14,
   "metadata": {},
   "outputs": [],
   "source": [
    "def spherical_to_cartesian(firings: List[FiringData]) -> np.ndarray:\n",
    "    \n",
    "    len_firings = len(firings)\n",
    "    xyzi = np.zeros((len_firings* LASERS, 4))\n",
    "    \n",
    "    for idx, firing in enumerate(firings):\n",
    "        \n",
    "        azimuth_rad = np.deg2rad(firing.azimuth)\n",
    "        r_cos_omega = firing.distance * OMEGA_COS\n",
    "        \n",
    "        start_idx = LASERS * idx\n",
    "        end_idx = start_idx + LASERS\n",
    "        \n",
    "        xyzi[i_start:i_end, 0] = r_cos_omega * np.sin(azimuth_rad)\n",
    "        xyzi[i_start:i_end, 1] = r_cos_omega * np.cos(azimuth_rad)\n",
    "        xyzi[i_start:i_end, 2] = firing.distance * OMEGA_SIN\n",
    "        xyzi[i_start:i_end, 3] = firing.intensity\n",
    "    \n",
    "    return xyzi"
   ]
  },
  {
   "cell_type": "code",
   "execution_count": 15,
   "metadata": {},
   "outputs": [],
   "source": [
    "def yield_point_clouds(packet_stream : pkt_stream) -> Iterator[PointCloud]:\n",
    "    \n",
    "    prev_azimuth = 0\n",
    "    firings_buffer : List[FiringData] = []\n",
    "    \n",
    "    for timestamp, packet in packet_stream:\n",
    "        \n",
    "        if len(packet) != PACKET_SIZE:\n",
    "                continue\n",
    "        \n",
    "        for firing in yield_firings(packet[42:]):\n",
    "            if prev_azimuth > firing.azimuth[0]:\n",
    "                \n",
    "                xyzi = spherical_to_cartesian(firings_buffer)\n",
    "                xyzi = xyzi[np.where(np.count_nonzero(xyzi[:, :3], axis=1))]\n",
    "                point_cloud = PointCloud.from_numpy(xyzi)\n",
    "                \n",
    "                firings_buffer = []\n",
    "                \n",
    "                yield point_cloud\n",
    "                \n",
    "            firings_buffer.append(firing)\n",
    "            prev_azimuth = firing.azimuth[0]\n",
    "            \n",
    "    xyzi = spherical_to_cartesian(firings_buffer)\n",
    "    xyzi = xyzi[np.where(np.count_nonzero(xyzi[:, :3], axis=1))]\n",
    "    point_cloud = PointCloud.from_numpy(xyzi)\n",
    "    \n",
    "    yield point_cloud               \n",
    "        "
   ]
  },
  {
   "cell_type": "code",
   "execution_count": 8,
   "metadata": {},
   "outputs": [],
   "source": [
    "def count_rotations(packet_stream: pkt_stream) -> int:\n",
    "\n",
    "        count = 1\n",
    "        prev_max_azi = 0\n",
    "\n",
    "        for timestamp, packet in packet_stream:\n",
    "            \n",
    "            if len(packet) != PACKET_SIZE:\n",
    "                continue\n",
    "            \n",
    "            # use same binary parsing as in parse_data_packet()\n",
    "            min_azi, max_azi = np.ndarray((2,), np.uint16, packet, HEADER_SIZE + 2, (1100,))\n",
    "            if (max_azi < min_azi or prev_max_azi > min_azi):\n",
    "                count += 1\n",
    "            prev_max_azi = max_azi\n",
    "\n",
    "        return count"
   ]
  },
  {
   "cell_type": "markdown",
   "metadata": {},
   "source": [
    "## Read Pcap files/directory"
   ]
  },
  {
   "cell_type": "markdown",
   "metadata": {},
   "source": [
    "### Read files from the directory"
   ]
  },
  {
   "cell_type": "code",
   "execution_count": 3,
   "metadata": {},
   "outputs": [
    {
     "name": "stdout",
     "output_type": "stream",
     "text": [
      "../../data/ferry_pcap/lidar_00030_20211025155801_filtered.pcap\n",
      "<class 'dpkt.pcap.Reader'>\n"
     ]
    }
   ],
   "source": [
    "pcap_files = glob.glob(\"{base}/*.pcap\".format(base=PCAP_PATH))\n",
    "\n",
    "file_1 = pcap_files[1]\n",
    "print(file_1)\n",
    "\n",
    "with open(file_1, 'rb') as f:  \n",
    "    pkt_stream = dpkt.pcap.Reader(f)\n",
    "    print(type(pkt_stream))\n",
    "    \n",
    "    \n",
    "    "
   ]
  },
  {
   "cell_type": "markdown",
   "metadata": {},
   "source": [
    "***"
   ]
  }
 ],
 "metadata": {
  "interpreter": {
   "hash": "4904624cb268e21bff6b578b2836602b54a6167a0b3c8877545f15e0d24fb83c"
  },
  "kernelspec": {
   "display_name": "Python 3.8.12 64-bit ('lidar-analysis': conda)",
   "language": "python",
   "name": "python3"
  },
  "language_info": {
   "codemirror_mode": {
    "name": "ipython",
    "version": 3
   },
   "file_extension": ".py",
   "mimetype": "text/x-python",
   "name": "python",
   "nbconvert_exporter": "python",
   "pygments_lexer": "ipython3",
   "version": "3.8.12"
  },
  "orig_nbformat": 4
 },
 "nbformat": 4,
 "nbformat_minor": 2
}
